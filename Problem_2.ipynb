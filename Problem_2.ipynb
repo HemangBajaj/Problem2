{
  "nbformat": 4,
  "nbformat_minor": 0,
  "metadata": {
    "colab": {
      "name": "Problem 2.ipynb",
      "provenance": [],
      "collapsed_sections": [],
      "authorship_tag": "ABX9TyMR53ZfuthfbX7HRBy7s+0q",
      "include_colab_link": true
    },
    "kernelspec": {
      "name": "python3",
      "display_name": "Python 3"
    }
  },
  "cells": [
    {
      "cell_type": "markdown",
      "metadata": {
        "id": "view-in-github",
        "colab_type": "text"
      },
      "source": [
        "<a href=\"https://colab.research.google.com/github/HemangBajaj/Problem2/blob/main/Problem_2.ipynb\" target=\"_parent\"><img src=\"https://colab.research.google.com/assets/colab-badge.svg\" alt=\"Open In Colab\"/></a>"
      ]
    },
    {
      "cell_type": "code",
      "metadata": {
        "id": "sbScGnm1AMP_"
      },
      "source": [
        "#Importing packages and libraries.\n",
        "\n",
        "import pandas as pd\n",
        "import numpy as np\n",
        "import matplotlib.pyplot as plt\n",
        "import matplotlib as mpl"
      ],
      "execution_count": 33,
      "outputs": []
    },
    {
      "cell_type": "markdown",
      "metadata": {
        "id": "QCtaXDq-BMj6"
      },
      "source": [
        "# Load data > $150k "
      ]
    },
    {
      "cell_type": "code",
      "metadata": {
        "id": "TJLFnWaiAluq"
      },
      "source": [
        "df = pd.read_csv(\"PPP_Data_150k_plus.csv\")"
      ],
      "execution_count": 13,
      "outputs": []
    },
    {
      "cell_type": "code",
      "metadata": {
        "id": "83JtljP1BAKI",
        "colab": {
          "base_uri": "https://localhost:8080/",
          "height": 469
        },
        "outputId": "6442f383-5d45-48d1-aa80-e63c5e5ec1f9"
      },
      "source": [
        "df.head()"
      ],
      "execution_count": 14,
      "outputs": [
        {
          "output_type": "execute_result",
          "data": {
            "text/html": [
              "<div>\n",
              "<style scoped>\n",
              "    .dataframe tbody tr th:only-of-type {\n",
              "        vertical-align: middle;\n",
              "    }\n",
              "\n",
              "    .dataframe tbody tr th {\n",
              "        vertical-align: top;\n",
              "    }\n",
              "\n",
              "    .dataframe thead th {\n",
              "        text-align: right;\n",
              "    }\n",
              "</style>\n",
              "<table border=\"1\" class=\"dataframe\">\n",
              "  <thead>\n",
              "    <tr style=\"text-align: right;\">\n",
              "      <th></th>\n",
              "      <th>LoanRange</th>\n",
              "      <th>BusinessName</th>\n",
              "      <th>Address</th>\n",
              "      <th>City</th>\n",
              "      <th>State</th>\n",
              "      <th>Zip</th>\n",
              "      <th>NAICSCode</th>\n",
              "      <th>BusinessType</th>\n",
              "      <th>RaceEthnicity</th>\n",
              "      <th>Gender</th>\n",
              "      <th>Veteran</th>\n",
              "      <th>NonProfit</th>\n",
              "      <th>JobsReported</th>\n",
              "      <th>DateApproved</th>\n",
              "      <th>Lender</th>\n",
              "      <th>CD</th>\n",
              "    </tr>\n",
              "  </thead>\n",
              "  <tbody>\n",
              "    <tr>\n",
              "      <th>0</th>\n",
              "      <td>d $350,000-1 million</td>\n",
              "      <td>AERO BOX LLC</td>\n",
              "      <td>NaN</td>\n",
              "      <td>NaN</td>\n",
              "      <td>NaN</td>\n",
              "      <td>NaN</td>\n",
              "      <td>484210.0</td>\n",
              "      <td>NaN</td>\n",
              "      <td>Unanswered</td>\n",
              "      <td>Unanswered</td>\n",
              "      <td>Unanswered</td>\n",
              "      <td>NaN</td>\n",
              "      <td>NaN</td>\n",
              "      <td>05/03/2020</td>\n",
              "      <td>The Huntington National Bank</td>\n",
              "      <td>NaN</td>\n",
              "    </tr>\n",
              "    <tr>\n",
              "      <th>1</th>\n",
              "      <td>d $350,000-1 million</td>\n",
              "      <td>BOYER CHILDREN'S CLINIC</td>\n",
              "      <td>1850 BOYER AVE E</td>\n",
              "      <td>SEATTLE</td>\n",
              "      <td>NaN</td>\n",
              "      <td>98112.0</td>\n",
              "      <td>NaN</td>\n",
              "      <td>Non-Profit Organization</td>\n",
              "      <td>Unanswered</td>\n",
              "      <td>Unanswered</td>\n",
              "      <td>Unanswered</td>\n",
              "      <td>Y</td>\n",
              "      <td>75.0</td>\n",
              "      <td>05/03/2020</td>\n",
              "      <td>Bank of America, National Association</td>\n",
              "      <td>WA-07</td>\n",
              "    </tr>\n",
              "    <tr>\n",
              "      <th>2</th>\n",
              "      <td>d $350,000-1 million</td>\n",
              "      <td>KIRTLEY CONSTRUCTION INC</td>\n",
              "      <td>1661 MARTIN RANCH RD</td>\n",
              "      <td>SAN BERNARDINO</td>\n",
              "      <td>NaN</td>\n",
              "      <td>92407.0</td>\n",
              "      <td>236115.0</td>\n",
              "      <td>Corporation</td>\n",
              "      <td>Unanswered</td>\n",
              "      <td>Unanswered</td>\n",
              "      <td>Unanswered</td>\n",
              "      <td>NaN</td>\n",
              "      <td>21.0</td>\n",
              "      <td>05/03/2020</td>\n",
              "      <td>Bank of America, National Association</td>\n",
              "      <td>CA-31</td>\n",
              "    </tr>\n",
              "    <tr>\n",
              "      <th>3</th>\n",
              "      <td>d $350,000-1 million</td>\n",
              "      <td>PLEASANT PLACES, INC.</td>\n",
              "      <td>7684 Southrail Road</td>\n",
              "      <td>North Charleston</td>\n",
              "      <td>NaN</td>\n",
              "      <td>29420.0</td>\n",
              "      <td>561730.0</td>\n",
              "      <td>Sole Proprietorship</td>\n",
              "      <td>Unanswered</td>\n",
              "      <td>Male Owned</td>\n",
              "      <td>Non-Veteran</td>\n",
              "      <td>NaN</td>\n",
              "      <td>73.0</td>\n",
              "      <td>05/03/2020</td>\n",
              "      <td>Synovus Bank</td>\n",
              "      <td>SC-01</td>\n",
              "    </tr>\n",
              "    <tr>\n",
              "      <th>4</th>\n",
              "      <td>d $350,000-1 million</td>\n",
              "      <td>SUMTER COATINGS, INC.</td>\n",
              "      <td>2410 Highway 15 South</td>\n",
              "      <td>Sumter</td>\n",
              "      <td>NaN</td>\n",
              "      <td>29150.0</td>\n",
              "      <td>325510.0</td>\n",
              "      <td>Corporation</td>\n",
              "      <td>Unanswered</td>\n",
              "      <td>Unanswered</td>\n",
              "      <td>Unanswered</td>\n",
              "      <td>NaN</td>\n",
              "      <td>62.0</td>\n",
              "      <td>05/03/2020</td>\n",
              "      <td>Synovus Bank</td>\n",
              "      <td>SC-05</td>\n",
              "    </tr>\n",
              "  </tbody>\n",
              "</table>\n",
              "</div>"
            ],
            "text/plain": [
              "              LoanRange  ...     CD\n",
              "0  d $350,000-1 million  ...    NaN\n",
              "1  d $350,000-1 million  ...  WA-07\n",
              "2  d $350,000-1 million  ...  CA-31\n",
              "3  d $350,000-1 million  ...  SC-01\n",
              "4  d $350,000-1 million  ...  SC-05\n",
              "\n",
              "[5 rows x 16 columns]"
            ]
          },
          "metadata": {
            "tags": []
          },
          "execution_count": 14
        }
      ]
    },
    {
      "cell_type": "markdown",
      "metadata": {
        "id": "MVpiy80HBkWG"
      },
      "source": [
        "# Load data < $150k (Florida)"
      ]
    },
    {
      "cell_type": "code",
      "metadata": {
        "id": "o9JZxQBxBEkK"
      },
      "source": [
        "fl = pd.read_csv(\"PPP_Data_upto_150k_Florida.csv\")"
      ],
      "execution_count": 11,
      "outputs": []
    },
    {
      "cell_type": "code",
      "metadata": {
        "id": "6HeDjuhIBXN5",
        "colab": {
          "base_uri": "https://localhost:8080/",
          "height": 365
        },
        "outputId": "7459d751-5669-4e9f-d68b-a18ea2d37fe8"
      },
      "source": [
        "fl.head()"
      ],
      "execution_count": 12,
      "outputs": [
        {
          "output_type": "execute_result",
          "data": {
            "text/html": [
              "<div>\n",
              "<style scoped>\n",
              "    .dataframe tbody tr th:only-of-type {\n",
              "        vertical-align: middle;\n",
              "    }\n",
              "\n",
              "    .dataframe tbody tr th {\n",
              "        vertical-align: top;\n",
              "    }\n",
              "\n",
              "    .dataframe thead th {\n",
              "        text-align: right;\n",
              "    }\n",
              "</style>\n",
              "<table border=\"1\" class=\"dataframe\">\n",
              "  <thead>\n",
              "    <tr style=\"text-align: right;\">\n",
              "      <th></th>\n",
              "      <th>LoanAmount</th>\n",
              "      <th>City</th>\n",
              "      <th>State</th>\n",
              "      <th>Zip</th>\n",
              "      <th>NAICSCode</th>\n",
              "      <th>BusinessType</th>\n",
              "      <th>RaceEthnicity</th>\n",
              "      <th>Gender</th>\n",
              "      <th>Veteran</th>\n",
              "      <th>NonProfit</th>\n",
              "      <th>JobsReported</th>\n",
              "      <th>DateApproved</th>\n",
              "      <th>Lender</th>\n",
              "      <th>CD</th>\n",
              "    </tr>\n",
              "  </thead>\n",
              "  <tbody>\n",
              "    <tr>\n",
              "      <th>0</th>\n",
              "      <td>149999.00</td>\n",
              "      <td>TAMPA</td>\n",
              "      <td>FL</td>\n",
              "      <td>33612.0</td>\n",
              "      <td>624410.0</td>\n",
              "      <td>Limited  Liability Company(LLC)</td>\n",
              "      <td>Unanswered</td>\n",
              "      <td>Unanswered</td>\n",
              "      <td>Unanswered</td>\n",
              "      <td>NaN</td>\n",
              "      <td>8.0</td>\n",
              "      <td>08/07/2020</td>\n",
              "      <td>Kabbage, Inc.</td>\n",
              "      <td>FL-14</td>\n",
              "    </tr>\n",
              "    <tr>\n",
              "      <th>1</th>\n",
              "      <td>149997.00</td>\n",
              "      <td>Ruskin</td>\n",
              "      <td>FL</td>\n",
              "      <td>33570.0</td>\n",
              "      <td>812990.0</td>\n",
              "      <td>Limited  Liability Company(LLC)</td>\n",
              "      <td>Unanswered</td>\n",
              "      <td>Unanswered</td>\n",
              "      <td>Unanswered</td>\n",
              "      <td>NaN</td>\n",
              "      <td>8.0</td>\n",
              "      <td>08/06/2020</td>\n",
              "      <td>Cross River Bank</td>\n",
              "      <td>FL-16</td>\n",
              "    </tr>\n",
              "    <tr>\n",
              "      <th>2</th>\n",
              "      <td>149995.22</td>\n",
              "      <td>PANAMA CITY</td>\n",
              "      <td>FL</td>\n",
              "      <td>32401.0</td>\n",
              "      <td>238220.0</td>\n",
              "      <td>Limited  Liability Company(LLC)</td>\n",
              "      <td>Unanswered</td>\n",
              "      <td>Unanswered</td>\n",
              "      <td>Unanswered</td>\n",
              "      <td>NaN</td>\n",
              "      <td>22.0</td>\n",
              "      <td>04/15/2020</td>\n",
              "      <td>Trustmark National Bank</td>\n",
              "      <td>FL-02</td>\n",
              "    </tr>\n",
              "    <tr>\n",
              "      <th>3</th>\n",
              "      <td>149995.00</td>\n",
              "      <td>St. Cloud</td>\n",
              "      <td>FL</td>\n",
              "      <td>34771.0</td>\n",
              "      <td>812990.0</td>\n",
              "      <td>Limited  Liability Company(LLC)</td>\n",
              "      <td>Unanswered</td>\n",
              "      <td>Unanswered</td>\n",
              "      <td>Unanswered</td>\n",
              "      <td>NaN</td>\n",
              "      <td>7.0</td>\n",
              "      <td>08/06/2020</td>\n",
              "      <td>Cross River Bank</td>\n",
              "      <td>FL-09</td>\n",
              "    </tr>\n",
              "    <tr>\n",
              "      <th>4</th>\n",
              "      <td>149994.00</td>\n",
              "      <td>SARASOTA</td>\n",
              "      <td>FL</td>\n",
              "      <td>34236.0</td>\n",
              "      <td>611699.0</td>\n",
              "      <td>Limited  Liability Company(LLC)</td>\n",
              "      <td>Unanswered</td>\n",
              "      <td>Unanswered</td>\n",
              "      <td>Unanswered</td>\n",
              "      <td>NaN</td>\n",
              "      <td>50.0</td>\n",
              "      <td>05/03/2020</td>\n",
              "      <td>Bank of America, National Association</td>\n",
              "      <td>FL-16</td>\n",
              "    </tr>\n",
              "  </tbody>\n",
              "</table>\n",
              "</div>"
            ],
            "text/plain": [
              "   LoanAmount         City  ...                                 Lender     CD\n",
              "0   149999.00        TAMPA  ...                          Kabbage, Inc.  FL-14\n",
              "1   149997.00       Ruskin  ...                       Cross River Bank  FL-16\n",
              "2   149995.22  PANAMA CITY  ...                Trustmark National Bank  FL-02\n",
              "3   149995.00    St. Cloud  ...                       Cross River Bank  FL-09\n",
              "4   149994.00     SARASOTA  ...  Bank of America, National Association  FL-16\n",
              "\n",
              "[5 rows x 14 columns]"
            ]
          },
          "metadata": {
            "tags": []
          },
          "execution_count": 12
        }
      ]
    },
    {
      "cell_type": "code",
      "metadata": {
        "id": "tgyaE1GjBby2",
        "colab": {
          "base_uri": "https://localhost:8080/"
        },
        "outputId": "d791ec58-2ea6-4389-af6d-6d69df52a83f"
      },
      "source": [
        "df.LoanRange.unique()"
      ],
      "execution_count": 15,
      "outputs": [
        {
          "output_type": "execute_result",
          "data": {
            "text/plain": [
              "array(['d $350,000-1 million', 'e $150,000-350,000', 'a $5-10 million',\n",
              "       'b $2-5 million', 'c $1-2 million'], dtype=object)"
            ]
          },
          "metadata": {
            "tags": []
          },
          "execution_count": 15
        }
      ]
    },
    {
      "cell_type": "code",
      "metadata": {
        "id": "OujRda20E6-8"
      },
      "source": [
        "loan = {\n",
        "    \"a $5-10 million\": {\"lower\": 5000000, \"upper\": 10000000},\n",
        "    \"b $2-5 million\": {\"lower\": 2000000, \"upper\": 4999999},\n",
        "    \"c $1-2 million\": {\"lower\": 1000000, \"upper\":1999999},\n",
        "    \"d $350,000-1 million\": {\"lower\": 350000, \"upper\":999999},\n",
        "    \"e $150,000-350,000\" : {\"lower\": 150000, \"upper\":349999}\n",
        "}"
      ],
      "execution_count": 16,
      "outputs": []
    },
    {
      "cell_type": "code",
      "metadata": {
        "id": "wBoDHUJ0Enbw"
      },
      "source": [
        "df['loan_lower'] = df.LoanRange.apply(lambda x: loan[x][\"lower\"])\n",
        "df['loan_upper'] = df.LoanRange.apply(lambda x: loan[x][\"upper\"])"
      ],
      "execution_count": 17,
      "outputs": []
    },
    {
      "cell_type": "code",
      "metadata": {
        "id": "RKG6OutmiI0L"
      },
      "source": [
        "df[\"date_approved_dt\"] = pd.to_datetime(df[\"DateApproved\"]).values"
      ],
      "execution_count": 18,
      "outputs": []
    },
    {
      "cell_type": "markdown",
      "metadata": {
        "id": "cu-CzgRtl2BR"
      },
      "source": [
        "# Amount of loans over time"
      ]
    },
    {
      "cell_type": "code",
      "metadata": {
        "id": "KwYk1pPIiugi",
        "colab": {
          "base_uri": "https://localhost:8080/",
          "height": 407
        },
        "outputId": "5ea163ec-9855-43e4-a6fa-5a6395869b45"
      },
      "source": [
        "fig, ax = plt.subplots(figsize=(21, 7))\n",
        "\n",
        "x = df.groupby(\"date_approved_dt\")[\"loan_lower\"].sum().index.values\n",
        "y = df.groupby(\"date_approved_dt\")[\"loan_lower\"].sum().values\n",
        "\n",
        "yy = pd.DataFrame({\"date\":x, \"csum\": y}).set_index(\"date\").cumsum().values\n",
        "ax.scatter(x, y, color=\"k\")\n",
        "\n",
        "kwd = {\n",
        "    \"xlabel\": \"Date\",\n",
        "    \"ylabel\": \"Lower loan amount\"\n",
        "}\n",
        "ax.set(**kwd)\n",
        "ax.yaxis.set_major_formatter(mpl.ticker.StrMethodFormatter('${x:,.0f}'))\n",
        "\n",
        "plt.show()"
      ],
      "execution_count": 19,
      "outputs": [
        {
          "output_type": "display_data",
          "data": {
            "image/png": "[encoded data removed]",
            "text/plain": [
              "<Figure size 1512x504 with 1 Axes>"
            ]
          },
          "metadata": {
            "tags": [],
            "needs_background": "light"
          }
        }
      ]
    },
    {
      "cell_type": "code",
      "metadata": {
        "id": "Gh9fs7PQlEKP",
        "colab": {
          "base_uri": "https://localhost:8080/",
          "height": 462
        },
        "outputId": "65b0541f-3047-4ac4-bf5e-119e9dd02d4e"
      },
      "source": [
        "fig, ax = plt.subplots(figsize=(21, 7))\n",
        "\n",
        "x = df.groupby(\"date_approved_dt\")[\"loan_lower\"].sum().index.values\n",
        "y = df.groupby(\"date_approved_dt\")[\"loan_lower\"].sum().values\n",
        "\n",
        "yy = pd.DataFrame({\"date\":x, \"csum\": y}).set_index(\"date\").cumsum().values\n",
        "\n",
        "ax.plot(x, yy, linewidth=4, color=\"k\")\n",
        "\n",
        "kwd = {\n",
        "    \"xlabel\": \"Date\",\n",
        "    \"ylabel\": \"Sum of loans given out\"\n",
        "}\n",
        "ax.set(**kwd)\n",
        "ax.yaxis.set_major_formatter(mpl.ticker.StrMethodFormatter('${x:,.0f}'))\n",
        "\n",
        "plt.show()"
      ],
      "execution_count": 20,
      "outputs": [
        {
          "output_type": "display_data",
          "data": {
            "image/png": "[encoded data removed]",
            "text/plain": [
              "<Figure size 1512x504 with 1 Axes>"
            ]
          },
          "metadata": {
            "tags": [],
            "needs_background": "light"
          }
        }
      ]
    },
    {
      "cell_type": "markdown",
      "metadata": {
        "id": "FSZEWIdqgzj6"
      },
      "source": [
        "# Number of loans per state"
      ]
    },
    {
      "cell_type": "code",
      "metadata": {
        "id": "SgXRHdGthhsg",
        "colab": {
          "base_uri": "https://localhost:8080/",
          "height": 551
        },
        "outputId": "77f83f31-3c0c-43ec-82c3-5fb449ba3d39"
      },
      "source": [
        "pd.DataFrame(df[df.BusinessType.notna()][\"BusinessType\"].value_counts())"
      ],
      "execution_count": 21,
      "outputs": [
        {
          "output_type": "execute_result",
          "data": {
            "text/html": [
              "<div>\n",
              "<style scoped>\n",
              "    .dataframe tbody tr th:only-of-type {\n",
              "        vertical-align: middle;\n",
              "    }\n",
              "\n",
              "    .dataframe tbody tr th {\n",
              "        vertical-align: top;\n",
              "    }\n",
              "\n",
              "    .dataframe thead th {\n",
              "        text-align: right;\n",
              "    }\n",
              "</style>\n",
              "<table border=\"1\" class=\"dataframe\">\n",
              "  <thead>\n",
              "    <tr style=\"text-align: right;\">\n",
              "      <th></th>\n",
              "      <th>BusinessType</th>\n",
              "    </tr>\n",
              "  </thead>\n",
              "  <tbody>\n",
              "    <tr>\n",
              "      <th>Corporation</th>\n",
              "      <td>8613</td>\n",
              "    </tr>\n",
              "    <tr>\n",
              "      <th>Limited  Liability Company(LLC)</th>\n",
              "      <td>6573</td>\n",
              "    </tr>\n",
              "    <tr>\n",
              "      <th>Subchapter S Corporation</th>\n",
              "      <td>4000</td>\n",
              "    </tr>\n",
              "    <tr>\n",
              "      <th>Non-Profit Organization</th>\n",
              "      <td>1364</td>\n",
              "    </tr>\n",
              "    <tr>\n",
              "      <th>Sole Proprietorship</th>\n",
              "      <td>352</td>\n",
              "    </tr>\n",
              "    <tr>\n",
              "      <th>Partnership</th>\n",
              "      <td>243</td>\n",
              "    </tr>\n",
              "    <tr>\n",
              "      <th>Professional Association</th>\n",
              "      <td>166</td>\n",
              "    </tr>\n",
              "    <tr>\n",
              "      <th>Limited Liability Partnership</th>\n",
              "      <td>159</td>\n",
              "    </tr>\n",
              "    <tr>\n",
              "      <th>Cooperative</th>\n",
              "      <td>56</td>\n",
              "    </tr>\n",
              "    <tr>\n",
              "      <th>Self-Employed Individuals</th>\n",
              "      <td>21</td>\n",
              "    </tr>\n",
              "    <tr>\n",
              "      <th>Non-Profit Childcare Center</th>\n",
              "      <td>20</td>\n",
              "    </tr>\n",
              "    <tr>\n",
              "      <th>Employee Stock Ownership Plan(ESOP)</th>\n",
              "      <td>15</td>\n",
              "    </tr>\n",
              "    <tr>\n",
              "      <th>Trust</th>\n",
              "      <td>9</td>\n",
              "    </tr>\n",
              "    <tr>\n",
              "      <th>Independent Contractors</th>\n",
              "      <td>8</td>\n",
              "    </tr>\n",
              "    <tr>\n",
              "      <th>Joint Venture</th>\n",
              "      <td>2</td>\n",
              "    </tr>\n",
              "    <tr>\n",
              "      <th>Tenant in Common</th>\n",
              "      <td>1</td>\n",
              "    </tr>\n",
              "  </tbody>\n",
              "</table>\n",
              "</div>"
            ],
            "text/plain": [
              "                                     BusinessType\n",
              "Corporation                                  8613\n",
              "Limited  Liability Company(LLC)              6573\n",
              "Subchapter S Corporation                     4000\n",
              "Non-Profit Organization                      1364\n",
              "Sole Proprietorship                           352\n",
              "Partnership                                   243\n",
              "Professional Association                      166\n",
              "Limited Liability Partnership                 159\n",
              "Cooperative                                    56\n",
              "Self-Employed Individuals                      21\n",
              "Non-Profit Childcare Center                    20\n",
              "Employee Stock Ownership Plan(ESOP)            15\n",
              "Trust                                           9\n",
              "Independent Contractors                         8\n",
              "Joint Venture                                   2\n",
              "Tenant in Common                                1"
            ]
          },
          "metadata": {
            "tags": []
          },
          "execution_count": 21
        }
      ]
    },
    {
      "cell_type": "code",
      "metadata": {
        "id": "ZUWk8pc6TTwz",
        "colab": {
          "base_uri": "https://localhost:8080/",
          "height": 206
        },
        "outputId": "5f45f18b-3153-430c-b5c1-8df82c556d11"
      },
      "source": [
        "pd.DataFrame(df[df.State.notna()][\"State\"].value_counts())"
      ],
      "execution_count": 22,
      "outputs": [
        {
          "output_type": "execute_result",
          "data": {
            "text/html": [
              "<div>\n",
              "<style scoped>\n",
              "    .dataframe tbody tr th:only-of-type {\n",
              "        vertical-align: middle;\n",
              "    }\n",
              "\n",
              "    .dataframe tbody tr th {\n",
              "        vertical-align: top;\n",
              "    }\n",
              "\n",
              "    .dataframe thead th {\n",
              "        text-align: right;\n",
              "    }\n",
              "</style>\n",
              "<table border=\"1\" class=\"dataframe\">\n",
              "  <thead>\n",
              "    <tr style=\"text-align: right;\">\n",
              "      <th></th>\n",
              "      <th>State</th>\n",
              "    </tr>\n",
              "  </thead>\n",
              "  <tbody>\n",
              "    <tr>\n",
              "      <th>AL</th>\n",
              "      <td>7867</td>\n",
              "    </tr>\n",
              "    <tr>\n",
              "      <th>AZ</th>\n",
              "      <td>7754</td>\n",
              "    </tr>\n",
              "    <tr>\n",
              "      <th>AR</th>\n",
              "      <td>4273</td>\n",
              "    </tr>\n",
              "    <tr>\n",
              "      <th>AK</th>\n",
              "      <td>1713</td>\n",
              "    </tr>\n",
              "    <tr>\n",
              "      <th>AS</th>\n",
              "      <td>20</td>\n",
              "    </tr>\n",
              "  </tbody>\n",
              "</table>\n",
              "</div>"
            ],
            "text/plain": [
              "    State\n",
              "AL   7867\n",
              "AZ   7754\n",
              "AR   4273\n",
              "AK   1713\n",
              "AS     20"
            ]
          },
          "metadata": {
            "tags": []
          },
          "execution_count": 22
        }
      ]
    },
    {
      "cell_type": "markdown",
      "metadata": {
        "id": "I16uX54WCOBu"
      },
      "source": [
        "INSIGHTS :"
      ]
    },
    {
      "cell_type": "code",
      "metadata": {
        "id": "CZ19lvtaGzWN",
        "colab": {
          "base_uri": "https://localhost:8080/"
        },
        "outputId": "fd7bd435-a2ab-44c0-b26e-f866b67a3b57"
      },
      "source": [
        "print(f'There are {df.JobsReported.isna().sum():,.0f} out of {df.shape[0]:,.0f} companies that did not report the number of jobs retained')\n",
        "print(f\"There are {(df.JobsReported==0).sum():,.0f} out of {df.shape[0]:,.0f} companies that reported 0 number of jobs retained\")"
      ],
      "execution_count": 26,
      "outputs": [
        {
          "output_type": "stream",
          "text": [
            "There are 1,267 out of 21,643 companies that did not report the number of jobs retained\n",
            "There are 1,164 out of 21,643 companies that reported 0 number of jobs retained\n"
          ],
          "name": "stdout"
        }
      ]
    },
    {
      "cell_type": "markdown",
      "metadata": {
        "id": "BJ4-S3R4CLyA"
      },
      "source": [
        "# Many business reported retaining zero jobs even with PPP"
      ]
    },
    {
      "cell_type": "code",
      "metadata": {
        "id": "IP_OCk27KxB8",
        "colab": {
          "base_uri": "https://localhost:8080/",
          "height": 947
        },
        "outputId": "fd7e2537-27eb-4aef-d13e-f786b108c6c9"
      },
      "source": [
        "df.iloc[np.where(df.JobsReported.values == 0.0)[0]]"
      ],
      "execution_count": 27,
      "outputs": [
        {
          "output_type": "execute_result",
          "data": {
            "text/html": [
              "<div>\n",
              "<style scoped>\n",
              "    .dataframe tbody tr th:only-of-type {\n",
              "        vertical-align: middle;\n",
              "    }\n",
              "\n",
              "    .dataframe tbody tr th {\n",
              "        vertical-align: top;\n",
              "    }\n",
              "\n",
              "    .dataframe thead th {\n",
              "        text-align: right;\n",
              "    }\n",
              "</style>\n",
              "<table border=\"1\" class=\"dataframe\">\n",
              "  <thead>\n",
              "    <tr style=\"text-align: right;\">\n",
              "      <th></th>\n",
              "      <th>LoanRange</th>\n",
              "      <th>BusinessName</th>\n",
              "      <th>Address</th>\n",
              "      <th>City</th>\n",
              "      <th>State</th>\n",
              "      <th>Zip</th>\n",
              "      <th>NAICSCode</th>\n",
              "      <th>BusinessType</th>\n",
              "      <th>RaceEthnicity</th>\n",
              "      <th>Gender</th>\n",
              "      <th>Veteran</th>\n",
              "      <th>NonProfit</th>\n",
              "      <th>JobsReported</th>\n",
              "      <th>DateApproved</th>\n",
              "      <th>Lender</th>\n",
              "      <th>CD</th>\n",
              "      <th>loan_lower</th>\n",
              "      <th>loan_upper</th>\n",
              "      <th>date_approved_dt</th>\n",
              "    </tr>\n",
              "  </thead>\n",
              "  <tbody>\n",
              "    <tr>\n",
              "      <th>22</th>\n",
              "      <td>a $5-10 million</td>\n",
              "      <td>KATMAI HEALTH SERVICES LLC</td>\n",
              "      <td>11001 O'MALLEY CENTRE DRIVE, SUITE 204</td>\n",
              "      <td>Anchorage</td>\n",
              "      <td>AK</td>\n",
              "      <td>99515.0</td>\n",
              "      <td>621111.0</td>\n",
              "      <td>Limited  Liability Company(LLC)</td>\n",
              "      <td>Unanswered</td>\n",
              "      <td>Unanswered</td>\n",
              "      <td>Unanswered</td>\n",
              "      <td>NaN</td>\n",
              "      <td>0.0</td>\n",
              "      <td>04/29/2020</td>\n",
              "      <td>Truist Bank d/b/a Branch Banking &amp; Trust Co</td>\n",
              "      <td>AK-00</td>\n",
              "      <td>5000000</td>\n",
              "      <td>10000000</td>\n",
              "      <td>2020-04-29</td>\n",
              "    </tr>\n",
              "    <tr>\n",
              "      <th>27</th>\n",
              "      <td>a $5-10 million</td>\n",
              "      <td>TYONEK GLOBAL SERVICES, LLC</td>\n",
              "      <td>1689 C ST</td>\n",
              "      <td>ANCHORAGE</td>\n",
              "      <td>AK</td>\n",
              "      <td>99501.0</td>\n",
              "      <td>611420.0</td>\n",
              "      <td>Limited  Liability Company(LLC)</td>\n",
              "      <td>Unanswered</td>\n",
              "      <td>Unanswered</td>\n",
              "      <td>Unanswered</td>\n",
              "      <td>NaN</td>\n",
              "      <td>0.0</td>\n",
              "      <td>04/30/2020</td>\n",
              "      <td>BBVA USA</td>\n",
              "      <td>AK-00</td>\n",
              "      <td>5000000</td>\n",
              "      <td>10000000</td>\n",
              "      <td>2020-04-30</td>\n",
              "    </tr>\n",
              "    <tr>\n",
              "      <th>28</th>\n",
              "      <td>a $5-10 million</td>\n",
              "      <td>TYONEK WORLDWIDE SERVICES, INC.</td>\n",
              "      <td>1689 C ST</td>\n",
              "      <td>ANCHORAGE</td>\n",
              "      <td>AK</td>\n",
              "      <td>99501.0</td>\n",
              "      <td>488190.0</td>\n",
              "      <td>Subchapter S Corporation</td>\n",
              "      <td>Unanswered</td>\n",
              "      <td>Unanswered</td>\n",
              "      <td>Unanswered</td>\n",
              "      <td>NaN</td>\n",
              "      <td>0.0</td>\n",
              "      <td>04/30/2020</td>\n",
              "      <td>BBVA USA</td>\n",
              "      <td>AK-00</td>\n",
              "      <td>5000000</td>\n",
              "      <td>10000000</td>\n",
              "      <td>2020-04-30</td>\n",
              "    </tr>\n",
              "    <tr>\n",
              "      <th>38</th>\n",
              "      <td>b $2-5 million</td>\n",
              "      <td>ALASKA VILLAGE ELECTRIC</td>\n",
              "      <td>4831 EAGLE STREET</td>\n",
              "      <td>ANCHORAGE</td>\n",
              "      <td>AK</td>\n",
              "      <td>99503.0</td>\n",
              "      <td>221122.0</td>\n",
              "      <td>Corporation</td>\n",
              "      <td>Unanswered</td>\n",
              "      <td>Unanswered</td>\n",
              "      <td>Unanswered</td>\n",
              "      <td>NaN</td>\n",
              "      <td>0.0</td>\n",
              "      <td>05/06/2020</td>\n",
              "      <td>Wells Fargo Bank, National Association</td>\n",
              "      <td>AK-00</td>\n",
              "      <td>2000000</td>\n",
              "      <td>4999999</td>\n",
              "      <td>2020-05-06</td>\n",
              "    </tr>\n",
              "    <tr>\n",
              "      <th>81</th>\n",
              "      <td>b $2-5 million</td>\n",
              "      <td>TYONEK MANUFACTURING GROUP, INC.</td>\n",
              "      <td>1689 C ST</td>\n",
              "      <td>ANCHORAGE</td>\n",
              "      <td>AK</td>\n",
              "      <td>99501.0</td>\n",
              "      <td>551112.0</td>\n",
              "      <td>Subchapter S Corporation</td>\n",
              "      <td>Unanswered</td>\n",
              "      <td>Unanswered</td>\n",
              "      <td>Unanswered</td>\n",
              "      <td>NaN</td>\n",
              "      <td>0.0</td>\n",
              "      <td>04/30/2020</td>\n",
              "      <td>BBVA USA</td>\n",
              "      <td>AK-00</td>\n",
              "      <td>2000000</td>\n",
              "      <td>4999999</td>\n",
              "      <td>2020-04-30</td>\n",
              "    </tr>\n",
              "    <tr>\n",
              "      <th>...</th>\n",
              "      <td>...</td>\n",
              "      <td>...</td>\n",
              "      <td>...</td>\n",
              "      <td>...</td>\n",
              "      <td>...</td>\n",
              "      <td>...</td>\n",
              "      <td>...</td>\n",
              "      <td>...</td>\n",
              "      <td>...</td>\n",
              "      <td>...</td>\n",
              "      <td>...</td>\n",
              "      <td>...</td>\n",
              "      <td>...</td>\n",
              "      <td>...</td>\n",
              "      <td>...</td>\n",
              "      <td>...</td>\n",
              "      <td>...</td>\n",
              "      <td>...</td>\n",
              "      <td>...</td>\n",
              "    </tr>\n",
              "    <tr>\n",
              "      <th>21569</th>\n",
              "      <td>e $150,000-350,000</td>\n",
              "      <td>INTER-CO RESTROOM &amp; LOCKER SUPPLY, INC.</td>\n",
              "      <td>2224 E Jones Ave</td>\n",
              "      <td>Phoenix</td>\n",
              "      <td>AZ</td>\n",
              "      <td>85040.0</td>\n",
              "      <td>238390.0</td>\n",
              "      <td>Corporation</td>\n",
              "      <td>Unanswered</td>\n",
              "      <td>Unanswered</td>\n",
              "      <td>Unanswered</td>\n",
              "      <td>NaN</td>\n",
              "      <td>0.0</td>\n",
              "      <td>04/28/2020</td>\n",
              "      <td>FirstBank</td>\n",
              "      <td>AZ-07</td>\n",
              "      <td>150000</td>\n",
              "      <td>349999</td>\n",
              "      <td>2020-04-28</td>\n",
              "    </tr>\n",
              "    <tr>\n",
              "      <th>21582</th>\n",
              "      <td>e $150,000-350,000</td>\n",
              "      <td>INTERNATIONAL RESTAURANTS II LLC</td>\n",
              "      <td>2720 N Oracle Road</td>\n",
              "      <td>Tucson</td>\n",
              "      <td>AZ</td>\n",
              "      <td>85705.0</td>\n",
              "      <td>722511.0</td>\n",
              "      <td>Limited  Liability Company(LLC)</td>\n",
              "      <td>Unanswered</td>\n",
              "      <td>Male Owned</td>\n",
              "      <td>Unanswered</td>\n",
              "      <td>NaN</td>\n",
              "      <td>0.0</td>\n",
              "      <td>05/02/2020</td>\n",
              "      <td>CDC Small Business Finance Corporation</td>\n",
              "      <td>AZ-03</td>\n",
              "      <td>150000</td>\n",
              "      <td>349999</td>\n",
              "      <td>2020-05-02</td>\n",
              "    </tr>\n",
              "    <tr>\n",
              "      <th>21597</th>\n",
              "      <td>e $150,000-350,000</td>\n",
              "      <td>IRONWOOD WEALTH MANAGEMENT LLC</td>\n",
              "      <td>4650 E Cotton Center Blvd Suite 13</td>\n",
              "      <td>PHOENIX</td>\n",
              "      <td>AZ</td>\n",
              "      <td>85040.0</td>\n",
              "      <td>523930.0</td>\n",
              "      <td>Limited  Liability Company(LLC)</td>\n",
              "      <td>Unanswered</td>\n",
              "      <td>Unanswered</td>\n",
              "      <td>Unanswered</td>\n",
              "      <td>NaN</td>\n",
              "      <td>0.0</td>\n",
              "      <td>04/03/2020</td>\n",
              "      <td>First State Bank Nebraska</td>\n",
              "      <td>AZ-07</td>\n",
              "      <td>150000</td>\n",
              "      <td>349999</td>\n",
              "      <td>2020-04-03</td>\n",
              "    </tr>\n",
              "    <tr>\n",
              "      <th>21623</th>\n",
              "      <td>e $150,000-350,000</td>\n",
              "      <td>J&amp;M GLASS LLC</td>\n",
              "      <td>2025 W DEER VALLEY RD SUITE 105</td>\n",
              "      <td>PHOENIX</td>\n",
              "      <td>AZ</td>\n",
              "      <td>85027.0</td>\n",
              "      <td>238150.0</td>\n",
              "      <td>Corporation</td>\n",
              "      <td>Unanswered</td>\n",
              "      <td>Unanswered</td>\n",
              "      <td>Unanswered</td>\n",
              "      <td>NaN</td>\n",
              "      <td>0.0</td>\n",
              "      <td>05/07/2020</td>\n",
              "      <td>Wells Fargo Bank, National Association</td>\n",
              "      <td>AZ-06</td>\n",
              "      <td>150000</td>\n",
              "      <td>349999</td>\n",
              "      <td>2020-05-07</td>\n",
              "    </tr>\n",
              "    <tr>\n",
              "      <th>21626</th>\n",
              "      <td>e $150,000-350,000</td>\n",
              "      <td>J. W. FUNERAL SERVICES, LLC</td>\n",
              "      <td>525 N. Peart Rd.</td>\n",
              "      <td>Casa Grande</td>\n",
              "      <td>AZ</td>\n",
              "      <td>85122.0</td>\n",
              "      <td>812210.0</td>\n",
              "      <td>Limited  Liability Company(LLC)</td>\n",
              "      <td>Unanswered</td>\n",
              "      <td>Unanswered</td>\n",
              "      <td>Unanswered</td>\n",
              "      <td>NaN</td>\n",
              "      <td>0.0</td>\n",
              "      <td>04/04/2020</td>\n",
              "      <td>Live Oak Banking Company</td>\n",
              "      <td>AZ-01</td>\n",
              "      <td>150000</td>\n",
              "      <td>349999</td>\n",
              "      <td>2020-04-04</td>\n",
              "    </tr>\n",
              "  </tbody>\n",
              "</table>\n",
              "<p>1164 rows × 19 columns</p>\n",
              "</div>"
            ],
            "text/plain": [
              "                LoanRange  ... date_approved_dt\n",
              "22        a $5-10 million  ...       2020-04-29\n",
              "27        a $5-10 million  ...       2020-04-30\n",
              "28        a $5-10 million  ...       2020-04-30\n",
              "38         b $2-5 million  ...       2020-05-06\n",
              "81         b $2-5 million  ...       2020-04-30\n",
              "...                   ...  ...              ...\n",
              "21569  e $150,000-350,000  ...       2020-04-28\n",
              "21582  e $150,000-350,000  ...       2020-05-02\n",
              "21597  e $150,000-350,000  ...       2020-04-03\n",
              "21623  e $150,000-350,000  ...       2020-05-07\n",
              "21626  e $150,000-350,000  ...       2020-04-04\n",
              "\n",
              "[1164 rows x 19 columns]"
            ]
          },
          "metadata": {
            "tags": []
          },
          "execution_count": 27
        }
      ]
    },
    {
      "cell_type": "markdown",
      "metadata": {
        "id": "BgLUgmmuKrko"
      },
      "source": [
        "# These are the companies that reported 0 number of jobs retained"
      ]
    },
    {
      "cell_type": "code",
      "metadata": {
        "id": "dfz4XkfXGrNI",
        "colab": {
          "base_uri": "https://localhost:8080/",
          "height": 442
        },
        "outputId": "e8d7c10e-ab47-4749-9c96-c27ad4f94b91"
      },
      "source": [
        "fig, ax = plt.subplots(figsize=(7,7))\n",
        "\n",
        "m = df.JobsReported.isna()\n",
        "njobs = 250\n",
        "xeps=0.1\n",
        "yeps=0.2\n",
        "\n",
        "x = np.sort(df.JobsReported.values[~m])[::-1]\n",
        "y = np.arange(len(x))\n",
        "\n",
        "xl = njobs\n",
        "yl = y[np.where(x<njobs)[0][0]]\n",
        "\n",
        "ax.axvline(x=xl, color=\"k\", linestyle=\"--\")\n",
        "ax.axhline(y=yl, color=\"k\", linestyle=\"--\")\n",
        "\n",
        "ax.annotate(f\"({xl:,.0f},{yl:,.0f})\", (xl*(1+xeps), yl*(1+yeps)))\n",
        "\n",
        "ax.scatter(x, y)\n",
        "\n",
        "\n",
        "kwd = {\"yscale\": \"symlog\",\n",
        "       \"xlabel\" : \"# of Jobs Retained\",\n",
        "       \"ylabel\" : \"# of companies that retained the jobs\"}\n",
        "ax.set(**kwd)\n",
        "\n",
        "plt.show()"
      ],
      "execution_count": 30,
      "outputs": [
        {
          "output_type": "display_data",
          "data": {
            "image/png": "[encoded data removed]",
            "text/plain": [
              "<Figure size 504x504 with 1 Axes>"
            ]
          },
          "metadata": {
            "tags": [],
            "needs_background": "light"
          }
        }
      ]
    },
    {
      "cell_type": "markdown",
      "metadata": {
        "id": "bavzO0NSIXfB"
      },
      "source": [
        "# It appears that the maximum amount of jobs a business can retain is 500"
      ]
    },
    {
      "cell_type": "code",
      "metadata": {
        "id": "hp2loTgEGGcs",
        "colab": {
          "base_uri": "https://localhost:8080/",
          "height": 499
        },
        "outputId": "5e10655e-85c2-490c-89d2-cb8a7b277810"
      },
      "source": [
        "fig, ax = plt.subplots(figsize=(14,7))\n",
        "\n",
        "alpha=0.1\n",
        "lower = df.loan_lower.unique()[::-1]\n",
        "\n",
        "labels = [f\"${n:,.0f}\" for n in lower]\n",
        "lidx = np.arange(len(labels)) + 1\n",
        "\n",
        "\n",
        "x = []\n",
        "for l in lower:\n",
        "  x.append(df.query(f\"loan_lower == {l}\")[df.query(f\"loan_lower == {l}\")[\"JobsReported\"].notna()][\"JobsReported\"].values)\n",
        "\n",
        "parts = ax.violinplot(x, showmedians=False, showextrema=False)\n",
        "for pcidx, pc in enumerate(parts['bodies']):\n",
        "    pc.set_facecolor('#D43F3A')\n",
        "    pc.set_edgecolor('black')\n",
        "    pc.set_alpha(1)\n",
        "\n",
        "    \n",
        "mean = [np.mean(i) for i in x]\n",
        "ax.scatter(lidx, mean, marker='o', color='white', s=30, zorder=3)\n",
        "\n",
        "######## Add some random \"jitter\" to the x-axis\n",
        "xx = [lval + np.random.normal(1, 0.04, size=len(d))-1 for d, lval in zip(x, lidx)]\n",
        "\n",
        "for vals, xvals in zip(xx, x):\n",
        "  ax.scatter(vals, xvals, alpha=alpha, s=10, zorder=-1, color=\"k\")\n",
        "\n",
        "ax.set_xticks(lidx)\n",
        "ax.set_xticklabels(labels)\n",
        "ax.set_xlabel(\"Lower bound of loan amount\")\n",
        "ax.set_ylabel(\"Number of jobs retiained\")\n",
        "\n",
        "\n",
        "plt.show()"
      ],
      "execution_count": 32,
      "outputs": [
        {
          "output_type": "stream",
          "text": [
            "/usr/local/lib/python3.6/dist-packages/numpy/core/_asarray.py:83: VisibleDeprecationWarning: Creating an ndarray from ragged nested sequences (which is a list-or-tuple of lists-or-tuples-or ndarrays with different lengths or shapes) is deprecated. If you meant to do this, you must specify 'dtype=object' when creating the ndarray\n",
            "  return array(a, dtype, copy=False, order=order)\n"
          ],
          "name": "stderr"
        },
        {
          "output_type": "display_data",
          "data": {
            "image/png": "[encoded data removed]",
            "text/plain": [
              "<Figure size 1008x504 with 1 Axes>"
            ]
          },
          "metadata": {
            "tags": [],
            "needs_background": "light"
          }
        }
      ]
    },
    {
      "cell_type": "markdown",
      "metadata": {
        "id": "5o6eabTIF4Pi"
      },
      "source": [
        "#  Loan amount correlation with jobs reported"
      ]
    }
  ]
}